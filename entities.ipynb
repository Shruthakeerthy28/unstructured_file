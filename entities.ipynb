{
 "cells": [
  {
   "cell_type": "code",
   "execution_count": 26,
   "metadata": {},
   "outputs": [],
   "source": [
    "#Email final\n",
    "import re\n",
    "\n",
    "def extract_email(input):\n",
    "    pattern = re.findall(r\"[a-z0-9\\.\\-+_]+@[a-z0-9\\.\\-+_]+\\.[a-z]+\", input)\n",
    "    return pattern"
   ]
  },
  {
   "cell_type": "code",
   "execution_count": 39,
   "metadata": {},
   "outputs": [
    {
     "data": {
      "text/plain": [
       "['shruth@gmail.com', '2018cse0998@svce.ac.in']"
      ]
     },
     "execution_count": 39,
     "metadata": {},
     "output_type": "execute_result"
    }
   ],
   "source": [
    "extract_email(\"i am having shruth@gmail.com 2018cse0998@svce.ac.in\")"
   ]
  },
  {
   "cell_type": "code",
   "execution_count": 1,
   "metadata": {},
   "outputs": [],
   "source": [
    "#IP4v\n",
    "import spacy\n",
    "from spacy.matcher import Matcher\n",
    "nlp = spacy.load(\"en_core_web_sm\")\n",
    "\n",
    "def extract_ip(input2):\n",
    "    matcher = Matcher(nlp.vocab)\n",
    "    octet_rx = r'(?:25[0-5]|2[0-4][0-9]|[01]?[0-9][0-9]?)'\n",
    "    pattern= [ {\"TEXT\": {\"REGEX\": r\"^{0}(?:\\.{0}){{3}}$\".format(octet_rx)}}]\n",
    "    matcher.add(\"ip\", [pattern])\n",
    "\n",
    "    doc = nlp(input2)\n",
    "    matches = matcher(doc)\n",
    "    for match_id, start, end in matches:\n",
    "        string_id = nlp.vocab.strings[match_id]\n",
    "        span = doc[start:end]\n",
    "        print(span.text)"
   ]
  },
  {
   "cell_type": "code",
   "execution_count": 4,
   "metadata": {},
   "outputs": [],
   "source": [
    "str4=\"\"\" i have 127.0.0.1\n",
    "192.168.1.1\n",
    "192.168.1.255\n",
    "255.255.255.255\n",
    "0.0.0.0\n",
    "1.1.1.01\n",
    "192.168.0.107\n",
    "183.82.243.66\n",
    "49.205.72.130\n",
    "20.70.30.1\"\"\"\n",
    "str5=\"\"\"\n",
    "30.168.1.255.1\n",
    "127.1\n",
    "192.168.1.256\n",
    "-1.2.3.4\n",
    "1.1.1.1.\n",
    "3...3\n",
    "\"\"\""
   ]
  },
  {
   "cell_type": "code",
   "execution_count": 5,
   "metadata": {},
   "outputs": [
    {
     "name": "stdout",
     "output_type": "stream",
     "text": [
      "127.0.0.1\n",
      "192.168.1.1\n",
      "192.168.1.255\n",
      "255.255.255.255\n",
      "0.0.0.0\n",
      "1.1.1.01\n",
      "192.168.0.107\n",
      "183.82.243.66\n",
      "49.205.72.130\n",
      "20.70.30.1\n"
     ]
    }
   ],
   "source": [
    "extract_ip(str4)"
   ]
  },
  {
   "cell_type": "code",
   "execution_count": 31,
   "metadata": {},
   "outputs": [],
   "source": [
    "#SSN takes only with hyphen\n",
    "import re\n",
    "def extract_ssn(input1):\n",
    "    #ssn_validate_pattern = r\"^(?!666|000|9\\\\d{2})\\\\d{3}-(?!00)\\\\d{2}-(?!0{4})\\\\d{4}\"\n",
    "    ssn=re.findall(\"(?!666|000|9\\\\d{2})\\\\d{3}-(?!00)\\\\d{2}-(?!0{4})\\\\d{4}\",input1)\n",
    "    return list(ssn)\n",
    "    "
   ]
  },
  {
   "cell_type": "code",
   "execution_count": 34,
   "metadata": {},
   "outputs": [
    {
     "data": {
      "text/plain": [
       "['078-05-1120', '100-22-3333']"
      ]
     },
     "execution_count": 34,
     "metadata": {},
     "output_type": "execute_result"
    }
   ],
   "source": [
    "extract_ssn(\"i have ssn 078-05-1120 and 100-22-3333\")"
   ]
  },
  {
   "cell_type": "code",
   "execution_count": 3,
   "metadata": {},
   "outputs": [
    {
     "data": {
      "text/plain": [
       "['SAR1231233333122']"
      ]
     },
     "execution_count": 3,
     "metadata": {},
     "output_type": "execute_result"
    }
   ],
   "source": [
    "#SAR\n",
    "\n",
    "import re\n",
    "\n",
    "def extract_sar(input):\n",
    "    pattern = re.findall((r\"SAR+\\d{1,15}\"),input)\n",
    "\n",
    "    return pattern\n",
    "extract_sar(\" i have SAR SARA124123331233 SAR1231233333122\") \n"
   ]
  },
  {
   "cell_type": "code",
   "execution_count": 4,
   "metadata": {},
   "outputs": [],
   "source": [
    "def external_bank_account(input):\n",
    "    #bankaccexternal=re.findall(r\"\\bexternal bank account +\\d{1,15}\\b\",input,re.IGNORECASE)\n",
    "    bankaccexternal=re.findall(r\"\\bexternal bank account +(\\d{1,15})\\b\",input,re.IGNORECASE)\n",
    "    return bankaccexternal\n",
    "\n",
    "\n",
    "\n"
   ]
  },
  {
   "cell_type": "code",
   "execution_count": 5,
   "metadata": {},
   "outputs": [
    {
     "data": {
      "text/plain": [
       "['20017005151', '20050000001']"
      ]
     },
     "execution_count": 5,
     "metadata": {},
     "output_type": "execute_result"
    }
   ],
   "source": [
    "external_bank_account(\"\"\"\n",
    "Seventeen payments were made on account 1000000006862593 and 1000000089925477 from External bank account   20017005151 totaling $18,222.97. On account 1000000089925478 three payments totaling $12,324.23 were made from external bank account          20050000001. The payments made from 20050000001 were declined.\n",
    "\n",
    "\n",
    " \n",
    "\"\"\")"
   ]
  }
 ],
 "metadata": {
  "interpreter": {
   "hash": "dc07d24e2f18896857f0b2a651fe84ba40ce7b297e58d8804a308c8039f752a6"
  },
  "kernelspec": {
   "display_name": "Python 3.8.5 ('base')",
   "language": "python",
   "name": "python3"
  },
  "language_info": {
   "codemirror_mode": {
    "name": "ipython",
    "version": 3
   },
   "file_extension": ".py",
   "mimetype": "text/x-python",
   "name": "python",
   "nbconvert_exporter": "python",
   "pygments_lexer": "ipython3",
   "version": "3.8.5"
  },
  "orig_nbformat": 4
 },
 "nbformat": 4,
 "nbformat_minor": 2
}
